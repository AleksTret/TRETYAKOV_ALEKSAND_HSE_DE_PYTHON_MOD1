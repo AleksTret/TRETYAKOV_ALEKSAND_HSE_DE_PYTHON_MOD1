{
 "cells": [
  {
   "cell_type": "markdown",
   "id": "f4a26a89",
   "metadata": {},
   "source": [
    "##### Задание 1\n",
    "Напишите функцию, которая принимает на вход строку и проверяет, является ли она валидным транспортным номером (1 буква, 3 цифры, 2 буквы, 2–3 цифры). Обратите внимание, что не все буквы кириллического алфавита используются в транспортных номерах.\n",
    "\n",
    "Если номер валиден, то функция должна возвращать отдельно номер и регион.\n",
    "\n",
    "Примеры работы программы:\n",
    "```python\n",
    "car_id = 'А222BС96'\n",
    "Результат: Номер А222BС валиден. Регион: 96.\n",
    "```\n",
    "\n",
    "```python\n",
    "car_id = 'АБ22ВВ193'\n",
    "Результат: Номер не валиден.\n",
    "```\n"
   ]
  },
  {
   "cell_type": "code",
   "execution_count": null,
   "id": "961ecb5d",
   "metadata": {},
   "outputs": [
    {
     "name": "stdout",
     "output_type": "stream",
     "text": [
      "Номер А222ВС валиден. Регион: 96.\n",
      "Номер не валиден.\n",
      "Номер А222ВС валиден. Регион: 96.\n",
      "Номер не валиден.\n",
      "Номер не валиден.\n"
     ]
    }
   ],
   "source": [
    "import re\n",
    "\n",
    "# Вспомогательная функция для исправление латинских букв на кириллические\n",
    "def fix_latin_to_cyrillic(text):\n",
    "    # латинская A → кириллическая А\n",
    "    replacements = {\n",
    "        'A': 'А', 'B': 'В', 'E': 'Е', 'K': 'К', 'M': 'М',\n",
    "        'H': 'Н', 'O': 'О', 'P': 'Р', 'C': 'С', 'T': 'Т',\n",
    "        'Y': 'У', 'X': 'Х'\n",
    "    }\n",
    "    return \"\".join(replacements.get(ch, ch) for ch in text)\n",
    "\n",
    "# Функция проверки по заданию\n",
    "def check_car_id(car_id):\n",
    "    allowed_letters = \"АВЕКМНОРСТУХ\"\n",
    "    \n",
    "    car_id_fixed = fix_latin_to_cyrillic(car_id)\n",
    "    \n",
    "    # Проверяем что any() для всех символов вернет false (), то есть что все буквы допустимые\n",
    "    if any(ch.isalpha() and ch not in allowed_letters for ch in car_id_fixed):\n",
    "        return \"Номер не валиден.\"\n",
    "\n",
    "    pattern = rf\"^([{allowed_letters}])(\\d{{3}})([{allowed_letters}]{{2}})(\\d{{2,3}})$\"\n",
    "    match = re.match(pattern, car_id_fixed)\n",
    "    if match:\n",
    "        number = \"\".join(match.groups()[:-1])\n",
    "        region = match.group(4)\n",
    "        return f\"Номер {number} валиден. Регион: {region}.\"\n",
    "    else:\n",
    "        return \"Номер не валиден.\"\n",
    "\n",
    "# Примеры\n",
    "print(check_car_id('А222BС96'))   \n",
    "print(check_car_id('АБ22ВВ193')) \n",
    "print(check_car_id('A222BC96'))   \n",
    "print(check_car_id('AX22BC96'))   \n",
    "print(check_car_id('A222BC96X')) "
   ]
  },
  {
   "cell_type": "markdown",
   "id": "a0c7f4fb",
   "metadata": {},
   "source": [
    "##### Задание 2\n",
    "Напишите функцию, которая будет удалять все последовательные повторы слов из заданной строки при помощи регулярных выражений.\n",
    "\n",
    "Пример работы программы:\n",
    "```python\n",
    "some_string = 'Напишите функцию функцию, которая будет будет будет будет удалять все все все все последовательные повторы слов из из из из заданной строки строки при помощи регулярных выражений'\n",
    "```\n",
    "\n",
    "```python\n",
    "Результат: Напишите функцию, которая будет удалять все последовательные повторы слов из заданной строки при помощи регулярных выражений.\n",
    "```"
   ]
  },
  {
   "cell_type": "code",
   "execution_count": 4,
   "id": "6cb38949",
   "metadata": {},
   "outputs": [
    {
     "name": "stdout",
     "output_type": "stream",
     "text": [
      "Напишите функцию, которая будет удалять все последовательные повторы слов из заданной строки при помощи регулярных выражений\n"
     ]
    }
   ],
   "source": [
    "def remove_duplicates(text):\n",
    "    # \\b(\\w+)\\b - захватываем слово\n",
    "    # (\\s+\\1\\b)+ - один или более повторов этого слова с пробелами\n",
    "    pattern = r'\\b(\\w+)\\b(\\s+\\1\\b)+'\n",
    "\n",
    "    return re.sub(pattern, r'\\1', text, flags=re.IGNORECASE)\n",
    "\n",
    "# Пример\n",
    "some_string = ('Напишите функцию функцию, которая будет будет будет будет удалять все все все все '\n",
    "               'последовательные повторы слов из из из из заданной строки строки при помощи регулярных выражений')\n",
    "\n",
    "result = remove_duplicates(some_string)\n",
    "print(result)"
   ]
  }
 ],
 "metadata": {
  "kernelspec": {
   "display_name": "hmw_python_de",
   "language": "python",
   "name": "python3"
  },
  "language_info": {
   "codemirror_mode": {
    "name": "ipython",
    "version": 3
   },
   "file_extension": ".py",
   "mimetype": "text/x-python",
   "name": "python",
   "nbconvert_exporter": "python",
   "pygments_lexer": "ipython3",
   "version": "3.14.0"
  }
 },
 "nbformat": 4,
 "nbformat_minor": 5
}

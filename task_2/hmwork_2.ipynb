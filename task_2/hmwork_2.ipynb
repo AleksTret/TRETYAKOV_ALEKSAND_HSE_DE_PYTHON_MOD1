{
 "cells": [
  {
   "cell_type": "markdown",
   "id": "cbca3d75",
   "metadata": {},
   "source": [
    "##### Задание 1\n",
    "Печатные газеты использовали свой формат дат для каждого выпуска. Для каждой газеты из списка напишите формат указанной даты для перевода в объект `datetime`:\n",
    "- The Moscow Times - `Wednesday, October 2, 2002`\n",
    "- The Guardian - `Friday, 11.10.13`\n",
    "- Daily News - `Thursday, 18 August 1977`\n",
    "\n",
    "Пример работы программы\n",
    "Программа должна выводить на экран объекты типа `datetime`, соответствующие датам в условии задачи\n"
   ]
  },
  {
   "cell_type": "code",
   "execution_count": 8,
   "id": "0c0ac65c",
   "metadata": {},
   "outputs": [
    {
     "name": "stdout",
     "output_type": "stream",
     "text": [
      "The Moscow Times - 2002-10-02 : <class 'datetime.datetime'>\n",
      "The Guardian - 2013-10-11 : <class 'datetime.datetime'>\n",
      "Daily News - 1977-08-18 : <class 'datetime.datetime'>\n"
     ]
    }
   ],
   "source": [
    "from datetime import datetime\n",
    "\n",
    "The_Moscow_Times = 'Wednesday, October 2, 2002'\n",
    "The_Guardian = 'Friday, 11.10.13'\n",
    "Daily_News = 'Thursday, 18 August 1977'\n",
    "\n",
    "tmt = datetime.strptime(The_Moscow_Times, '%A, %B %d, %Y')\n",
    "tg = datetime.strptime(The_Guardian, '%A, %d.%m.%y')\n",
    "dn = datetime.strptime(Daily_News, '%A, %d %B %Y')\n",
    "\n",
    "print(f'The Moscow Times - {tmt.strftime('%Y-%m-%d')} : {type(tmt)}')\n",
    "print(f'The Guardian - {tg.strftime('%Y-%m-%d')} : {type(tg)}')\n",
    "print(f'Daily News - {dn.strftime('%Y-%m-%d')} : {type(dn)}')\n"
   ]
  },
  {
   "cell_type": "markdown",
   "id": "27480e8b",
   "metadata": {},
   "source": [
    "##### Задание 2 (не обязательное)\n",
    "Напишите функцию `date_range`, которая возвращает список дат за период от `start_date` до `end_date`. \n",
    "Даты должны вводиться в формате `YYYY-MM-DD`. В случае неверного формата или при `start_date > end_date` должен возвращаться пустой список.\n",
    "\n",
    "Примеры работы программы:\n",
    "```python\n",
    "date_range('2022-01-01', '2022-01-03')\n",
    "['2022-01-01', '2022-01-02', '2022-01-03']\n",
    "```"
   ]
  },
  {
   "cell_type": "code",
   "execution_count": 27,
   "id": "9203fe53",
   "metadata": {},
   "outputs": [
    {
     "name": "stdout",
     "output_type": "stream",
     "text": [
      "For dates 2022-01-01 and 2022-01-03 date_range returns: \n",
      "['2022-01-01', '2022-01-02', '2022-01-03']\n",
      "\n",
      "For dates 2022-01-01 and 2022-JUN-03 date_range returns: \n",
      "[]\n",
      "\n",
      "For dates 2022-02-01 and 2022-01-03 date_range returns: \n",
      "[]\n",
      "\n",
      "For dates 2022-01-01 and 2022-01-01 date_range returns: \n",
      "['2022-01-01']\n",
      "\n"
     ]
    }
   ],
   "source": [
    "from datetime import datetime, timedelta\n",
    "\n",
    "def date_range(start_date_str, end_date_str):\n",
    "    try:\n",
    "        start_date = datetime.strptime(start_date_str, '%Y-%m-%d').date()\n",
    "        end_date = datetime.strptime(end_date_str, '%Y-%m-%d').date()\n",
    "    except ValueError:\n",
    "        return []\n",
    "    if start_date > end_date:\n",
    "        return []\n",
    "    \n",
    "    delta_days = (end_date - start_date).days\n",
    "    return [(start_date + timedelta(days=i)).strftime('%Y-%m-%d') for i in range(delta_days + 1)]\n",
    "\n",
    "start_date = '2022-01-01'\n",
    "end_date = '2022-01-03'\n",
    "print(f'For dates {start_date} and {end_date} date_range returns: ')\n",
    "print(f'{date_range(start_date, end_date)}\\n')\n",
    "\n",
    "start_date = '2022-01-01'\n",
    "end_date = '2022-JUN-03'\n",
    "print(f'For dates {start_date} and {end_date} date_range returns: ')\n",
    "print(f'{date_range(start_date, end_date)}\\n')\n",
    "\n",
    "start_date = '2022-02-01'\n",
    "end_date = '2022-01-03'\n",
    "print(f'For dates {start_date} and {end_date} date_range returns: ')\n",
    "print(f'{date_range(start_date, end_date)}\\n')\n",
    "\n",
    "start_date = '2022-01-01'\n",
    "end_date = '2022-01-01'\n",
    "print(f'For dates {start_date} and {end_date} date_range returns: ')\n",
    "print(f'{date_range(start_date, end_date)}\\n')\n"
   ]
  }
 ],
 "metadata": {
  "kernelspec": {
   "display_name": "hmw_python_de",
   "language": "python",
   "name": "python3"
  },
  "language_info": {
   "codemirror_mode": {
    "name": "ipython",
    "version": 3
   },
   "file_extension": ".py",
   "mimetype": "text/x-python",
   "name": "python",
   "nbconvert_exporter": "python",
   "pygments_lexer": "ipython3",
   "version": "3.13.7"
  }
 },
 "nbformat": 4,
 "nbformat_minor": 5
}

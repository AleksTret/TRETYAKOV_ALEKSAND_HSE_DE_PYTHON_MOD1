{
 "cells": [
  {
   "cell_type": "markdown",
   "id": "32d0118b",
   "metadata": {},
   "source": [
    "##### Задание 1\n",
    "На основании датасета для каждого покупателя получите:\n",
    "- предпочитаемый метод оплаты; \n",
    "- общие траты;\n",
    "- количество денег, потраченных на дополнительные услуги и аксессуары. "
   ]
  },
  {
   "cell_type": "code",
   "execution_count": 213,
   "id": "e5401a75",
   "metadata": {},
   "outputs": [
    {
     "name": "stdout",
     "output_type": "stream",
     "text": [
      "Первые 5 строк:\n",
      "   Customer ID  Age Gender Loyalty Member Product Type      SKU  Rating  \\\n",
      "0         1000   53   Male             No   Smartphone  SKU1004       2   \n",
      "1         1000   53   Male             No       Tablet  SKU1002       3   \n",
      "2         1002   41   Male             No       Laptop  SKU1005       3   \n",
      "3         1002   41   Male            Yes   Smartphone  SKU1004       2   \n",
      "4         1003   75   Male            Yes   Smartphone  SKU1001       5   \n",
      "\n",
      "  Order Status Payment Method  Total Price  Unit Price  Quantity  \\\n",
      "0    Cancelled    Credit Card      5538.33      791.19         7   \n",
      "1    Completed         Paypal       741.09      247.03         3   \n",
      "2    Completed    Credit Card      1855.84      463.96         4   \n",
      "3    Completed           Cash      3164.76      791.19         4   \n",
      "4    Completed           Cash        41.50       20.75         2   \n",
      "\n",
      "  Purchase Date Shipping Type              Add-ons Purchased  Add-on Total  \n",
      "0    2024-03-20      Standard  Accessory,Accessory,Accessory         40.21  \n",
      "1    2024-04-20     Overnight                   Impulse Item         26.09  \n",
      "2    2023-10-17       Express                            NaN          0.00  \n",
      "3    2024-08-09     Overnight      Impulse Item,Impulse Item         60.16  \n",
      "4    2024-05-21       Express                      Accessory         35.56  \n",
      "\n",
      "Информация о данных:\n",
      "<class 'pandas.core.frame.DataFrame'>\n",
      "RangeIndex: 20000 entries, 0 to 19999\n",
      "Data columns (total 16 columns):\n",
      " #   Column             Non-Null Count  Dtype  \n",
      "---  ------             --------------  -----  \n",
      " 0   Customer ID        20000 non-null  int64  \n",
      " 1   Age                20000 non-null  int64  \n",
      " 2   Gender             19999 non-null  object \n",
      " 3   Loyalty Member     20000 non-null  object \n",
      " 4   Product Type       20000 non-null  object \n",
      " 5   SKU                20000 non-null  object \n",
      " 6   Rating             20000 non-null  int64  \n",
      " 7   Order Status       20000 non-null  object \n",
      " 8   Payment Method     20000 non-null  object \n",
      " 9   Total Price        20000 non-null  float64\n",
      " 10  Unit Price         20000 non-null  float64\n",
      " 11  Quantity           20000 non-null  int64  \n",
      " 12  Purchase Date      20000 non-null  object \n",
      " 13  Shipping Type      20000 non-null  object \n",
      " 14  Add-ons Purchased  15132 non-null  object \n",
      " 15  Add-on Total       20000 non-null  float64\n",
      "dtypes: float64(3), int64(4), object(9)\n",
      "memory usage: 2.4+ MB\n",
      "None\n"
     ]
    }
   ],
   "source": [
    "# Чтение датасета\n",
    "\n",
    "import pandas as pd\n",
    "\n",
    "# Загрузка данных\n",
    "df = pd.read_csv('Electronic_sales_Sep2023-Sep2024.csv')\n",
    "\n",
    "# Просмотр структуры данных\n",
    "print(\"Первые 5 строк:\")\n",
    "print(df.head())\n",
    "print(\"\\nИнформация о данных:\")\n",
    "print(df.info())\n"
   ]
  },
  {
   "cell_type": "code",
   "execution_count": 214,
   "id": "2c0c8be4",
   "metadata": {},
   "outputs": [
    {
     "name": "stdout",
     "output_type": "stream",
     "text": [
      "Общее количество покупателей: 12136\n",
      "Общее количество способов оплаты: 6\n",
      "Методы оплаты: ['Credit Card' 'Paypal' 'Cash' 'Debit Card' 'Bank Transfer' 'PayPal']\n",
      "Общее количество статусов оплаты: 2\n",
      "Статусы оплаты: ['Cancelled' 'Completed']\n"
     ]
    }
   ],
   "source": [
    "total_customers = df['Customer ID'].nunique()\n",
    "total_preferred_payment_method = df['Payment Method'].nunique()\n",
    "total_order_status = df['Order Status'].nunique()\n",
    "\n",
    "payment_methods = df['Payment Method'].unique()\n",
    "order_statuses = df['Order Status'].unique()\n",
    "\n",
    "print(f\"Общее количество покупателей: {total_customers}\")\n",
    "print(f\"Общее количество способов оплаты: {total_preferred_payment_method}\")\n",
    "print(f\"Методы оплаты: {payment_methods}\")\n",
    "print(f\"Общее количество статусов оплаты: {total_order_status}\")\n",
    "print(f\"Статусы оплаты: {order_statuses}\")"
   ]
  },
  {
   "cell_type": "code",
   "execution_count": 215,
   "id": "cc3a05f0",
   "metadata": {},
   "outputs": [
    {
     "name": "stdout",
     "output_type": "stream",
     "text": [
      "Предпочитаемый метод оплаты\n",
      "\n",
      "      Customer ID Payment Method\n",
      "0            1000         Paypal\n",
      "1            1002           Cash\n",
      "2            1003           Cash\n",
      "3            1004    Credit Card\n",
      "4            1005     Debit Card\n",
      "...           ...            ...\n",
      "9461        19990         PayPal\n",
      "9462        19991    Credit Card\n",
      "9463        19995    Credit Card\n",
      "9464        19996  Bank Transfer\n",
      "9465        19998  Bank Transfer\n",
      "\n",
      "[9466 rows x 2 columns]\n"
     ]
    }
   ],
   "source": [
    "# Предпочитаемый метод оплаты\n",
    "completed_orders = df[df['Order Status'] == 'Completed']\n",
    "\n",
    "preferred_payment = completed_orders.groupby('Customer ID')['Payment Method'].agg(\n",
    "   lambda x: x.mode().iloc[0] if not x.mode().empty else 'No completed orders' \n",
    ").reset_index()\n",
    "\n",
    "print('Предпочитаемый метод оплаты\\n')\n",
    "print(preferred_payment)"
   ]
  },
  {
   "cell_type": "code",
   "execution_count": 216,
   "id": "1e2b8c43",
   "metadata": {},
   "outputs": [
    {
     "name": "stdout",
     "output_type": "stream",
     "text": [
      "Общие траты\n",
      "\n",
      "      Customer ID  Total Spending\n",
      "0            1000          741.09\n",
      "1            1002         5020.60\n",
      "2            1003           41.50\n",
      "3            1004           83.00\n",
      "4            1005        11779.11\n",
      "...           ...             ...\n",
      "9461        19990         9117.44\n",
      "9462        19991        12368.06\n",
      "9463        19995         5394.56\n",
      "9464        19996        12063.02\n",
      "9465        19998          674.32\n",
      "\n",
      "[9466 rows x 2 columns]\n"
     ]
    }
   ],
   "source": [
    "# Общие траты\n",
    "total_spending = completed_orders.groupby('Customer ID')['Total Price'].sum().reset_index()\n",
    "total_spending.columns = ['Customer ID', 'Total Spending']\n",
    "\n",
    "print('Общие траты\\n')\n",
    "print(total_spending)"
   ]
  },
  {
   "cell_type": "code",
   "execution_count": 217,
   "id": "fdb89d95",
   "metadata": {},
   "outputs": [
    {
     "name": "stdout",
     "output_type": "stream",
     "text": [
      "Деньги, потраченные на дополнительные услуги и аксессуары\n",
      "\n",
      "      Customer ID  Add-ons Spending\n",
      "0            1000             26.09\n",
      "1            1002             60.16\n",
      "2            1003             35.56\n",
      "3            1004             65.78\n",
      "4            1005             75.33\n",
      "...           ...               ...\n",
      "9461        19990            113.56\n",
      "9462        19991              0.00\n",
      "9463        19995              0.00\n",
      "9464        19996            198.98\n",
      "9465        19998              0.00\n",
      "\n",
      "[9466 rows x 2 columns]\n"
     ]
    }
   ],
   "source": [
    "# Деньги, потраченные на дополнительные услуги и аксессуары\n",
    "addons_spending = completed_orders.groupby('Customer ID')['Add-on Total'].sum().reset_index()\n",
    "addons_spending.columns = ['Customer ID', 'Add-ons Spending']\n",
    "\n",
    "print('Деньги, потраченные на дополнительные услуги и аксессуары\\n')\n",
    "print(addons_spending)"
   ]
  },
  {
   "cell_type": "code",
   "execution_count": 218,
   "id": "d5997984",
   "metadata": {},
   "outputs": [
    {
     "name": "stdout",
     "output_type": "stream",
     "text": [
      "Объединенные данные\n",
      "\n",
      "      Customer ID Payment Method  Total Spending  Add-ons Spending\n",
      "0            1000         Paypal          741.09             26.09\n",
      "1            1002           Cash         5020.60             60.16\n",
      "2            1003           Cash           41.50             35.56\n",
      "3            1004    Credit Card           83.00             65.78\n",
      "4            1005     Debit Card        11779.11             75.33\n",
      "...           ...            ...             ...               ...\n",
      "9461        19990         PayPal         9117.44            113.56\n",
      "9462        19991    Credit Card        12368.06              0.00\n",
      "9463        19995    Credit Card         5394.56              0.00\n",
      "9464        19996  Bank Transfer        12063.02            198.98\n",
      "9465        19998  Bank Transfer          674.32              0.00\n",
      "\n",
      "[9466 rows x 4 columns]\n"
     ]
    }
   ],
   "source": [
    "# Объединенные данные \n",
    "customer_analysis = preferred_payment.merge(\n",
    "    total_spending, on = 'Customer ID', how = 'left'\n",
    ").merge(\n",
    "    addons_spending, on = 'Customer ID', how = 'left' \n",
    ")\n",
    "\n",
    "print('Объединенные данные\\n')\n",
    "print(customer_analysis)"
   ]
  },
  {
   "cell_type": "markdown",
   "id": "af64d43a",
   "metadata": {},
   "source": [
    "##### Задание 2\n",
    "1. На основании датасета получите доход:\n",
    "- по каждому методу доставки, \n",
    "- по каждому типу продукта, \n",
    "- по дополнительным услугам за каждый месяц,\n",
    "- по дополнительным услугам за каждый квартал. \n",
    "2. Отобразите полученные данные на графике.\n"
   ]
  },
  {
   "cell_type": "code",
   "execution_count": 219,
   "id": "9b182d58",
   "metadata": {},
   "outputs": [
    {
     "name": "stdout",
     "output_type": "stream",
     "text": [
      "Общее количество способов доставки: 5\n",
      "Способы доставки: ['Standard' 'Overnight' 'Express' 'Same Day' 'Expedited']\n",
      "Общее количество типов продуктов: 5\n",
      "Типы продуктов: ['Smartphone' 'Tablet' 'Laptop' 'Smartwatch' 'Headphones']\n"
     ]
    }
   ],
   "source": [
    "total_shipping_type = df['Shipping Type'].nunique()\n",
    "shipping_types = df['Shipping Type'].unique()\n",
    "total_product_type = df['Product Type'].nunique()\n",
    "product_types = df['Product Type'].unique()\n",
    "\n",
    "print(f\"Общее количество способов доставки: {total_shipping_type}\")\n",
    "print(f\"Способы доставки: {shipping_types}\")\n",
    "print(f\"Общее количество типов продуктов: {total_product_type}\")\n",
    "print(f\"Типы продуктов: {product_types}\")"
   ]
  },
  {
   "cell_type": "code",
   "execution_count": 220,
   "id": "1c6fa464",
   "metadata": {},
   "outputs": [
    {
     "name": "stdout",
     "output_type": "stream",
     "text": [
      "Доход по методам доставки\n",
      "\n",
      "  Shipping Type  Total Revenue\n",
      "0     Expedited     8430385.58\n",
      "1       Express     5632093.35\n",
      "2     Overnight     5887722.52\n",
      "3      Same Day     8292376.50\n",
      "4      Standard    14387037.62\n"
     ]
    }
   ],
   "source": [
    "# Доход по методам доставки\n",
    "shipping_revenue = completed_orders.groupby('Shipping Type')['Total Price'].sum().reset_index()\n",
    "shipping_revenue.columns = ['Shipping Type', 'Total Revenue']\n",
    "\n",
    "\n",
    "print(\"Доход по методам доставки\\n\")\n",
    "print(shipping_revenue)"
   ]
  },
  {
   "cell_type": "code",
   "execution_count": 221,
   "id": "1c2f0530",
   "metadata": {},
   "outputs": [
    {
     "name": "stdout",
     "output_type": "stream",
     "text": [
      "1. Доход по методам доставки:\n"
     ]
    },
    {
     "data": {
      "text/plain": [
       "Text(0.5, 0, 'Метод доставки')"
      ]
     },
     "execution_count": 221,
     "metadata": {},
     "output_type": "execute_result"
    },
    {
     "data": {
      "image/png": "[encoded data removed]",
      "text/plain": [
       "<Figure size 640x480 with 1 Axes>"
      ]
     },
     "metadata": {},
     "output_type": "display_data"
    }
   ],
   "source": [
    "# График дохода по методам доставки\n",
    "print(\"1. Доход по методам доставки:\")\n",
    "shipping_plot = shipping_revenue.plot(\n",
    "    kind='bar',\n",
    "    x='Shipping Type',\n",
    "    y='Total Revenue',\n",
    "    title='Доход по методам доставки',\n",
    "    color=['#FF6B6B', '#4ECDC4', '#45B7D1'],\n",
    "    legend=False\n",
    ")\n",
    "shipping_plot.set_ylabel('Общий доход')\n",
    "shipping_plot.set_xlabel('Метод доставки')"
   ]
  },
  {
   "cell_type": "code",
   "execution_count": 222,
   "id": "11354d53",
   "metadata": {},
   "outputs": [
    {
     "name": "stdout",
     "output_type": "stream",
     "text": [
      "Доход по типам продуктов:\n",
      "\n",
      "  Product Type  Total Revenue\n",
      "0   Headphones     2734651.00\n",
      "1       Laptop     8365905.25\n",
      "2   Smartphone    14407835.84\n",
      "3   Smartwatch     9398591.23\n",
      "4       Tablet     7722632.25\n"
     ]
    }
   ],
   "source": [
    "# Доход по типам продуктов\n",
    "product_revenue = completed_orders.groupby('Product Type')['Total Price'].sum().reset_index()\n",
    "product_revenue.columns = ['Product Type', 'Total Revenue']\n",
    "\n",
    "print(\"Доход по типам продуктов:\\n\")\n",
    "print(product_revenue)"
   ]
  },
  {
   "cell_type": "code",
   "execution_count": 223,
   "id": "966865e7",
   "metadata": {},
   "outputs": [
    {
     "name": "stdout",
     "output_type": "stream",
     "text": [
      "1. Доход по типам продуктов:\n"
     ]
    },
    {
     "data": {
      "text/plain": [
       "Text(0.5, 0, 'Тип продукта')"
      ]
     },
     "execution_count": 223,
     "metadata": {},
     "output_type": "execute_result"
    },
    {
     "data": {
      "image/png": "[encoded data removed]",
      "text/plain": [
       "<Figure size 640x480 with 1 Axes>"
      ]
     },
     "metadata": {},
     "output_type": "display_data"
    }
   ],
   "source": [
    "# График дохода по типам продуктов\n",
    "print(\"1. Доход по типам продуктов:\")\n",
    "product_plot = product_revenue.plot(\n",
    "    kind='bar',\n",
    "    x='Product Type',\n",
    "    y='Total Revenue',\n",
    "    title='Доход по типам продуктов',\n",
    "    color=['#FF6B6B', '#4ECDC4', '#45B7D1'],\n",
    "    legend=False\n",
    ")\n",
    "product_plot.set_ylabel('Общий доход')\n",
    "product_plot.set_xlabel('Тип продукта')"
   ]
  },
  {
   "cell_type": "code",
   "execution_count": 224,
   "id": "53cb2528",
   "metadata": {},
   "outputs": [
    {
     "name": "stdout",
     "output_type": "stream",
     "text": [
      "Первые 5 строк завершенных заказов:\n",
      "   Customer ID  Age  Gender Loyalty Member Product Type      SKU  Rating  \\\n",
      "1         1000   53    Male             No       Tablet  SKU1002       3   \n",
      "2         1002   41    Male             No       Laptop  SKU1005       3   \n",
      "3         1002   41    Male            Yes   Smartphone  SKU1004       2   \n",
      "4         1003   75    Male            Yes   Smartphone  SKU1001       5   \n",
      "5         1004   41  Female             No   Smartphone  SKU1001       5   \n",
      "\n",
      "  Order Status Payment Method  Total Price  Unit Price  Quantity  \\\n",
      "1    Completed         Paypal       741.09      247.03         3   \n",
      "2    Completed    Credit Card      1855.84      463.96         4   \n",
      "3    Completed           Cash      3164.76      791.19         4   \n",
      "4    Completed           Cash        41.50       20.75         2   \n",
      "5    Completed    Credit Card        83.00       20.75         4   \n",
      "\n",
      "  Purchase Date Shipping Type          Add-ons Purchased  Add-on Total  \\\n",
      "1    2024-04-20     Overnight               Impulse Item         26.09   \n",
      "2    2023-10-17       Express                        NaN          0.00   \n",
      "3    2024-08-09     Overnight  Impulse Item,Impulse Item         60.16   \n",
      "4    2024-05-21       Express                  Accessory         35.56   \n",
      "5    2024-05-26      Standard     Impulse Item,Accessory         65.78   \n",
      "\n",
      "  Year-Month Year-Quarter  \n",
      "1    2024-04       2024Q2  \n",
      "2    2023-10       2023Q4  \n",
      "3    2024-08       2024Q3  \n",
      "4    2024-05       2024Q2  \n",
      "5    2024-05       2024Q2  \n",
      "\n",
      "Всего завершенных заказов: 13432\n"
     ]
    }
   ],
   "source": [
    "# Добавляем периоды для анализа в completed_orders\n",
    "\n",
    "completed_orders = completed_orders.copy()\n",
    "# Преобразуем столбец даты в datetime\n",
    "completed_orders['Purchase Date'] = pd.to_datetime(completed_orders['Purchase Date'])\n",
    "\n",
    "# Добавляем столбцы\n",
    "completed_orders['Year-Month'] = completed_orders['Purchase Date'].dt.to_period('M')\n",
    "completed_orders['Year-Quarter'] = completed_orders['Purchase Date'].dt.to_period('Q')\n",
    "\n",
    "print(\"Первые 5 строк завершенных заказов:\")\n",
    "print(completed_orders.head())\n",
    "\n",
    "print(f\"\\nВсего завершенных заказов: {len(completed_orders)}\")"
   ]
  },
  {
   "cell_type": "code",
   "execution_count": 225,
   "id": "76b2725c",
   "metadata": {},
   "outputs": [
    {
     "name": "stdout",
     "output_type": "stream",
     "text": [
      "Доход от дополнительных услуг по месяцам:\n",
      "\n",
      "      Month  Add-ons Revenue\n",
      "0   2023-09          5337.61\n",
      "1   2023-10         26153.21\n",
      "2   2023-11         24453.33\n",
      "3   2023-12         22750.23\n",
      "4   2024-01         93254.95\n",
      "5   2024-02         80253.72\n",
      "6   2024-03         84713.93\n",
      "7   2024-04         82294.06\n",
      "8   2024-05         89374.18\n",
      "9   2024-06         84648.60\n",
      "10  2024-07         88811.55\n",
      "11  2024-08         87861.11\n",
      "12  2024-09         65688.76\n"
     ]
    }
   ],
   "source": [
    "# Доход от дополнительных услуг по месяцам\n",
    "monthly_addons = completed_orders.groupby('Year-Month')['Add-on Total'].sum().reset_index()\n",
    "monthly_addons.columns = ['Month', 'Add-ons Revenue']\n",
    "\n",
    "print(\"Доход от дополнительных услуг по месяцам:\\n\")\n",
    "print(monthly_addons)"
   ]
  },
  {
   "cell_type": "code",
   "execution_count": 226,
   "id": "7c203cf7",
   "metadata": {},
   "outputs": [
    {
     "name": "stdout",
     "output_type": "stream",
     "text": [
      "Доход  от дополнительных услуг по месяцам:\n"
     ]
    },
    {
     "data": {
      "text/plain": [
       "Text(0.5, 0, 'Месяц')"
      ]
     },
     "execution_count": 226,
     "metadata": {},
     "output_type": "execute_result"
    },
    {
     "data": {
      "image/png": "[encoded data removed]",
      "text/plain": [
       "<Figure size 640x480 with 1 Axes>"
      ]
     },
     "metadata": {},
     "output_type": "display_data"
    }
   ],
   "source": [
    "# График дохода от дополнительных услуг по месяцам\n",
    "print(\"Доход  от дополнительных услуг по месяцам:\")\n",
    "monthly_plot = monthly_addons.plot(\n",
    "    kind='bar',\n",
    "    x='Month',\n",
    "    y='Add-ons Revenue',\n",
    "    title='Доход  от дополнительных услуг по месяцам',\n",
    "    color=['#FF6B6B', '#4ECDC4', '#45B7D1'],\n",
    "    legend=False\n",
    ")\n",
    "monthly_plot.set_ylabel('Общий доход')\n",
    "monthly_plot.set_xlabel('Месяц')\n"
   ]
  },
  {
   "cell_type": "code",
   "execution_count": 227,
   "id": "3c52f2e3",
   "metadata": {},
   "outputs": [
    {
     "name": "stdout",
     "output_type": "stream",
     "text": [
      "Доход от дополнительных услуг по кварталам:\n",
      "\n",
      "  Quarter  Add-ons Revenue\n",
      "0  2023Q3          5337.61\n",
      "1  2023Q4         73356.77\n",
      "2  2024Q1        258222.60\n",
      "3  2024Q2        256316.84\n",
      "4  2024Q3        242361.42\n"
     ]
    }
   ],
   "source": [
    "# Доход от дополнительных услуг по кварталам\n",
    "\n",
    "quarterly_addons = completed_orders.groupby('Year-Quarter')['Add-on Total'].sum().reset_index()\n",
    "quarterly_addons.columns = ['Quarter', 'Add-ons Revenue']\n",
    "\n",
    "print(\"Доход от дополнительных услуг по кварталам:\\n\")\n",
    "print(quarterly_addons)"
   ]
  },
  {
   "cell_type": "code",
   "execution_count": 228,
   "id": "4670226e",
   "metadata": {},
   "outputs": [
    {
     "name": "stdout",
     "output_type": "stream",
     "text": [
      "1. Доход  от дополнительных услуг по кварталам:\n"
     ]
    },
    {
     "data": {
      "text/plain": [
       "Text(0.5, 0, 'Квартал')"
      ]
     },
     "execution_count": 228,
     "metadata": {},
     "output_type": "execute_result"
    },
    {
     "data": {
      "image/png": "[encoded data removed]",
      "text/plain": [
       "<Figure size 640x480 with 1 Axes>"
      ]
     },
     "metadata": {},
     "output_type": "display_data"
    }
   ],
   "source": [
    "# График дохода от дополнительных услуг по кварталам\n",
    "print(\"1. Доход  от дополнительных услуг по кварталам:\")\n",
    "quarter_plot = quarterly_addons.plot(\n",
    "    kind='bar',\n",
    "    x='Quarter',\n",
    "    y='Add-ons Revenue',\n",
    "    title='Доход  от дополнительных услуг по кварталам',\n",
    "    color=['#FF6B6B', '#4ECDC4', '#45B7D1'],\n",
    "    legend=False\n",
    ")\n",
    "quarter_plot.set_ylabel('Общий доход')\n",
    "quarter_plot.set_xlabel('Квартал')"
   ]
  }
 ],
 "metadata": {
  "kernelspec": {
   "display_name": "hmw_python_de",
   "language": "python",
   "name": "python3"
  },
  "language_info": {
   "codemirror_mode": {
    "name": "ipython",
    "version": 3
   },
   "file_extension": ".py",
   "mimetype": "text/x-python",
   "name": "python",
   "nbconvert_exporter": "python",
   "pygments_lexer": "ipython3",
   "version": "3.14.0"
  }
 },
 "nbformat": 4,
 "nbformat_minor": 5
}
